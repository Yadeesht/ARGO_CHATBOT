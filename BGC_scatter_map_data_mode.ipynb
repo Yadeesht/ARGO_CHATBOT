{
 "cells": [
  {
   "cell_type": "markdown",
   "id": "0c4c8ad9-4aa0-4601-bf55-6eae327471f0",
   "metadata": {},
   "source": [
    "<img src=\"https://raw.githubusercontent.com/euroargodev/argopy/master/docs/_static/argopy_logo_long.png\" alt=\"argopy logo\" width=\"200\"/> \n",
    "\n",
    "# Scatter map with data mode of one BGC variable\n",
    "\n",
    "This notebook shows how to:\n",
    "- download BGC-Argo index\n",
    "- search for profiles with a specific parameter\n",
    "- export search results as a Pandas DataFrame\n",
    "- extract data mode values for this parameter\n",
    "- download info from Argo NVS Reference Tables about a parameter\n",
    "- plot a map where profile locations are color coded with parameter data mode"
   ]
  },
  {
   "cell_type": "code",
   "execution_count": 1,
   "id": "99745bef-e49f-4753-8663-1117584a2c74",
   "metadata": {},
   "outputs": [],
   "source": [
    "from argopy import ArgoIndex  #  This is the class to work with Argo index content\n",
    "from argopy import ArgoNVSReferenceTables  # This is the class to retrieve data from Argo reference tables\n",
    "from argopy.plot import scatter_map  # This is a function to easily make maps \n",
    "\n",
    "import numpy as np\n",
    "from matplotlib import pyplot as plt"
   ]
  },
  {
   "cell_type": "code",
   "execution_count": 2,
   "id": "f7a418e3-079b-4f7d-8bb5-34554892a812",
   "metadata": {},
   "outputs": [
    {
     "data": {
      "text/plain": [
       "<argoindex.pyarrow>\n",
       "Host: https://data-argo.ifremer.fr\n",
       "Index: argo_bio-profile_index.txt.gz\n",
       "Convention: argo_bio-profile_index (Bio-Profile directory file of the Argo GDAC)\n",
       "In memory: True (363160 records)\n",
       "Searched: False"
      ]
     },
     "execution_count": 2,
     "metadata": {},
     "output_type": "execute_result"
    }
   ],
   "source": [
    "# Load an index of BGC profiles:\n",
    "# idx = ArgoIndex(index_file='bgc-s').load()  # 'bgc-s' is a shortcut for 'argo_synthetic-profile_index.txt'\n",
    "idx = ArgoIndex(index_file='bgc-b').load()  # 'bgc-b' is a shortcut for 'argo_bio-profile_index.txt'\n",
    "idx"
   ]
  },
  {
   "cell_type": "code",
   "execution_count": 3,
   "id": "d60b66a4-0886-47e4-b6fd-8383d19b23e7",
   "metadata": {},
   "outputs": [],
   "source": [
    "# Define a parameter to work with:\n",
    "# param = 'BBP470'\n",
    "# param = 'DOXY'\n",
    "param = 'BBP700'"
   ]
  },
  {
   "cell_type": "code",
   "execution_count": 5,
   "id": "bf32d86a-007a-4220-acb2-447359139a31",
   "metadata": {
    "tags": []
   },
   "outputs": [
    {
     "data": {
      "text/plain": [
       "altLabel                                                 BBP700\n",
       "prefLabel             Particle backscattering at 700 nanometers\n",
       "definition    Particle backscattering (/m) at 700 nm wavelen...\n",
       "deprecated                                                false\n",
       "id            http://vocab.nerc.ac.uk/collection/R03/current...\n",
       "Name: 43, dtype: object"
      ]
     },
     "execution_count": 5,
     "metadata": {},
     "output_type": "execute_result"
    }
   ],
   "source": [
    "# Get more verbose information about this parameter (usefull for plot titles):\n",
    "reftbl = ArgoNVSReferenceTables().tbl('R03')\n",
    "param_info = reftbl[reftbl['altLabel']==param].iloc[0]\n",
    "param_info"
   ]
  },
  {
   "cell_type": "code",
   "execution_count": 9,
   "id": "ffb1aabc-62e9-491c-899a-01c0e687e73e",
   "metadata": {},
   "outputs": [
    {
     "data": {
      "text/plain": [
       "<argoindex.pyarrow>\n",
       "Host: https://data-argo.ifremer.fr\n",
       "Index: argo_bio-profile_index.txt.gz\n",
       "Convention: argo_bio-profile_index (Bio-Profile directory file of the Argo GDAC)\n",
       "In memory: True (363160 records)\n",
       "Searched: False"
      ]
     },
     "execution_count": 9,
     "metadata": {},
     "output_type": "execute_result"
    }
   ],
   "source": [
    "# Search for this parameter profiles:\n",
    "idx.read_params(param)\n",
    "idx"
   ]
  },
  {
   "cell_type": "code",
   "execution_count": 8,
   "id": "ac166dcb-58af-4679-b7df-1d17c18418d2",
   "metadata": {},
   "outputs": [],
   "source": [
    "# Possibly add a search in time (just to make a map more readable):\n",
    "# idx.index = idx.search  # Trick to be able to chain multiple search methods with a single idx instance (new feature in dev to avoid this)\n",
    "# idx.search_tim([-180,180,-90,90,'2023-01','2023-07'])\n",
    "# idx"
   ]
  },
  {
   "cell_type": "code",
   "execution_count": 10,
   "id": "86456ec5-f456-4195-be12-341fab47ec97",
   "metadata": {},
   "outputs": [
    {
     "data": {
      "text/html": [
       "<div>\n",
       "<style scoped>\n",
       "    .dataframe tbody tr th:only-of-type {\n",
       "        vertical-align: middle;\n",
       "    }\n",
       "\n",
       "    .dataframe tbody tr th {\n",
       "        vertical-align: top;\n",
       "    }\n",
       "\n",
       "    .dataframe thead th {\n",
       "        text-align: right;\n",
       "    }\n",
       "</style>\n",
       "<table border=\"1\" class=\"dataframe\">\n",
       "  <thead>\n",
       "    <tr style=\"text-align: right;\">\n",
       "      <th></th>\n",
       "      <th>file</th>\n",
       "      <th>date</th>\n",
       "      <th>latitude</th>\n",
       "      <th>longitude</th>\n",
       "      <th>ocean</th>\n",
       "      <th>profiler_code</th>\n",
       "      <th>institution_code</th>\n",
       "      <th>parameters</th>\n",
       "      <th>parameter_data_mode</th>\n",
       "      <th>date_update</th>\n",
       "      <th>wmo</th>\n",
       "      <th>cyc</th>\n",
       "      <th>institution</th>\n",
       "      <th>dac</th>\n",
       "      <th>profiler</th>\n",
       "    </tr>\n",
       "  </thead>\n",
       "  <tbody>\n",
       "    <tr>\n",
       "      <th>49071</th>\n",
       "      <td>aoml/5904021/profiles/BD5904021_138.nc</td>\n",
       "      <td>2014-10-31 05:24:11</td>\n",
       "      <td>33.367</td>\n",
       "      <td>-127.976</td>\n",
       "      <td>P</td>\n",
       "      <td>846</td>\n",
       "      <td>AO</td>\n",
       "      <td>PRES TEMP_DOXY TPHASE_DOXY DOXY FLUORESCENCE_C...</td>\n",
       "      <td>RRRDRARARRD</td>\n",
       "      <td>2024-12-17 13:44:13</td>\n",
       "      <td>5904021</td>\n",
       "      <td>138</td>\n",
       "      <td>AOML, USA</td>\n",
       "      <td>aoml</td>\n",
       "      <td>Teledyne Webb Research float with SBE conducti...</td>\n",
       "    </tr>\n",
       "    <tr>\n",
       "      <th>238431</th>\n",
       "      <td>coriolis/6903094/profiles/BD6903094_130.nc</td>\n",
       "      <td>2022-10-16 16:50:59</td>\n",
       "      <td>20.719</td>\n",
       "      <td>-108.388</td>\n",
       "      <td>P</td>\n",
       "      <td>834</td>\n",
       "      <td>IF</td>\n",
       "      <td>PRES C1PHASE_DOXY C2PHASE_DOXY TEMP_DOXY C1PHA...</td>\n",
       "      <td>RRRRRRRRRRARRRRRRRRRRRRDDDDRRRRRRRRRAAARRRRRRR...</td>\n",
       "      <td>2024-08-30 08:55:44</td>\n",
       "      <td>6903094</td>\n",
       "      <td>130</td>\n",
       "      <td>Ifremer, France</td>\n",
       "      <td>coriolis</td>\n",
       "      <td>PROVOR V SBE</td>\n",
       "    </tr>\n",
       "    <tr>\n",
       "      <th>285575</th>\n",
       "      <td>csio/2902912/profiles/BR2902912_144.nc</td>\n",
       "      <td>2024-11-07 15:24:30</td>\n",
       "      <td>34.274</td>\n",
       "      <td>167.453</td>\n",
       "      <td>P</td>\n",
       "      <td>863</td>\n",
       "      <td>HZ</td>\n",
       "      <td>PRES PHASE_DELAY_DOXY TEMP_VOLTAGE_DOXY TEMP_D...</td>\n",
       "      <td>RRRRARARRRRRRR</td>\n",
       "      <td>2024-11-07 19:01:14</td>\n",
       "      <td>2902912</td>\n",
       "      <td>144</td>\n",
       "      <td>CSIO, China Second Institute of Oceanography</td>\n",
       "      <td>csio</td>\n",
       "      <td>Navis-A float with SBE conductivity sensor</td>\n",
       "    </tr>\n",
       "    <tr>\n",
       "      <th>77490</th>\n",
       "      <td>aoml/5904857/profiles/BD5904857_097.nc</td>\n",
       "      <td>2019-09-02 22:24:58</td>\n",
       "      <td>-69.620</td>\n",
       "      <td>179.761</td>\n",
       "      <td>P</td>\n",
       "      <td>846</td>\n",
       "      <td>AO</td>\n",
       "      <td>PRES TEMP_DOXY TPHASE_DOXY DOXY FLUORESCENCE_C...</td>\n",
       "      <td>RRRDRAARARRRRRDRRD</td>\n",
       "      <td>2025-04-12 21:28:46</td>\n",
       "      <td>5904857</td>\n",
       "      <td>97</td>\n",
       "      <td>AOML, USA</td>\n",
       "      <td>aoml</td>\n",
       "      <td>Teledyne Webb Research float with SBE conducti...</td>\n",
       "    </tr>\n",
       "    <tr>\n",
       "      <th>139649</th>\n",
       "      <td>coriolis/1901218/profiles/BD1901218_127.nc</td>\n",
       "      <td>2015-01-10 22:36:00</td>\n",
       "      <td>39.407</td>\n",
       "      <td>-32.429</td>\n",
       "      <td>A</td>\n",
       "      <td>841</td>\n",
       "      <td>IF</td>\n",
       "      <td>PRES MOLAR_DOXY DOXY</td>\n",
       "      <td>RRD</td>\n",
       "      <td>2020-08-03 21:23:28</td>\n",
       "      <td>1901218</td>\n",
       "      <td>127</td>\n",
       "      <td>Ifremer, France</td>\n",
       "      <td>coriolis</td>\n",
       "      <td>PROVOR float with SBE conductivity sensor</td>\n",
       "    </tr>\n",
       "  </tbody>\n",
       "</table>\n",
       "</div>"
      ],
      "text/plain": [
       "                                              file                date  \\\n",
       "49071       aoml/5904021/profiles/BD5904021_138.nc 2014-10-31 05:24:11   \n",
       "238431  coriolis/6903094/profiles/BD6903094_130.nc 2022-10-16 16:50:59   \n",
       "285575      csio/2902912/profiles/BR2902912_144.nc 2024-11-07 15:24:30   \n",
       "77490       aoml/5904857/profiles/BD5904857_097.nc 2019-09-02 22:24:58   \n",
       "139649  coriolis/1901218/profiles/BD1901218_127.nc 2015-01-10 22:36:00   \n",
       "\n",
       "        latitude  longitude ocean  profiler_code institution_code  \\\n",
       "49071     33.367   -127.976     P            846               AO   \n",
       "238431    20.719   -108.388     P            834               IF   \n",
       "285575    34.274    167.453     P            863               HZ   \n",
       "77490    -69.620    179.761     P            846               AO   \n",
       "139649    39.407    -32.429     A            841               IF   \n",
       "\n",
       "                                               parameters  \\\n",
       "49071   PRES TEMP_DOXY TPHASE_DOXY DOXY FLUORESCENCE_C...   \n",
       "238431  PRES C1PHASE_DOXY C2PHASE_DOXY TEMP_DOXY C1PHA...   \n",
       "285575  PRES PHASE_DELAY_DOXY TEMP_VOLTAGE_DOXY TEMP_D...   \n",
       "77490   PRES TEMP_DOXY TPHASE_DOXY DOXY FLUORESCENCE_C...   \n",
       "139649                               PRES MOLAR_DOXY DOXY   \n",
       "\n",
       "                                      parameter_data_mode         date_update  \\\n",
       "49071                                         RRRDRARARRD 2024-12-17 13:44:13   \n",
       "238431  RRRRRRRRRRARRRRRRRRRRRRDDDDRRRRRRRRRAAARRRRRRR... 2024-08-30 08:55:44   \n",
       "285575                                     RRRRARARRRRRRR 2024-11-07 19:01:14   \n",
       "77490                                  RRRDRAARARRRRRDRRD 2025-04-12 21:28:46   \n",
       "139649                                                RRD 2020-08-03 21:23:28   \n",
       "\n",
       "            wmo  cyc                                   institution       dac  \\\n",
       "49071   5904021  138                                     AOML, USA      aoml   \n",
       "238431  6903094  130                               Ifremer, France  coriolis   \n",
       "285575  2902912  144  CSIO, China Second Institute of Oceanography      csio   \n",
       "77490   5904857   97                                     AOML, USA      aoml   \n",
       "139649  1901218  127                               Ifremer, France  coriolis   \n",
       "\n",
       "                                                 profiler  \n",
       "49071   Teledyne Webb Research float with SBE conducti...  \n",
       "238431                                       PROVOR V SBE  \n",
       "285575         Navis-A float with SBE conductivity sensor  \n",
       "77490   Teledyne Webb Research float with SBE conducti...  \n",
       "139649          PROVOR float with SBE conductivity sensor  "
      ]
     },
     "execution_count": 10,
     "metadata": {},
     "output_type": "execute_result"
    }
   ],
   "source": [
    "# Export search results to a dataframe:\n",
    "df = idx.to_dataframe()\n",
    "df.sample(5)"
   ]
  },
  {
   "cell_type": "code",
   "execution_count": 14,
   "id": "c4a565ff-f72f-44a4-819d-b2c90696646d",
   "metadata": {},
   "outputs": [],
   "source": [
    "# To make the scatter map, we need to have the data mode available in one DataFrame column\n",
    "# so we need to add a new column with the DATA_MODE of the PARAMETER:\n",
    "df[\"variables\"] = df[\"parameters\"].apply(lambda x: x.split())\n",
    "df[\"%s_DM\" % param] = df.apply(lambda x: x['parameter_data_mode'][x['variables'].index(param)] if param in x['variables'] else '', axis=1)"
   ]
  },
  {
   "cell_type": "code",
   "execution_count": 16,
   "id": "6349a9fc",
   "metadata": {},
   "outputs": [
    {
     "name": "stdout",
     "output_type": "stream",
     "text": [
      "Defaulting to user installation because normal site-packages is not writeable\n",
      "Requirement already satisfied: cartopy in c:\\users\\yadeesh\\appdata\\roaming\\python\\python313\\site-packages (0.25.0)\n",
      "Requirement already satisfied: numpy>=1.23 in c:\\users\\yadeesh\\appdata\\roaming\\python\\python313\\site-packages (from cartopy) (2.3.1)\n",
      "Requirement already satisfied: matplotlib>=3.6 in c:\\users\\yadeesh\\appdata\\roaming\\python\\python313\\site-packages (from cartopy) (3.10.3)\n",
      "Requirement already satisfied: shapely>=2.0 in c:\\users\\yadeesh\\appdata\\roaming\\python\\python313\\site-packages (from cartopy) (2.1.1)\n",
      "Requirement already satisfied: packaging>=21 in c:\\users\\yadeesh\\appdata\\roaming\\python\\python313\\site-packages (from cartopy) (24.2)\n",
      "Requirement already satisfied: pyshp>=2.3 in c:\\users\\yadeesh\\appdata\\roaming\\python\\python313\\site-packages (from cartopy) (2.3.1)\n",
      "Requirement already satisfied: pyproj>=3.3.1 in c:\\users\\yadeesh\\appdata\\roaming\\python\\python313\\site-packages (from cartopy) (3.7.2)\n",
      "Requirement already satisfied: contourpy>=1.0.1 in c:\\users\\yadeesh\\appdata\\roaming\\python\\python313\\site-packages (from matplotlib>=3.6->cartopy) (1.3.2)\n",
      "Requirement already satisfied: cycler>=0.10 in c:\\users\\yadeesh\\appdata\\roaming\\python\\python313\\site-packages (from matplotlib>=3.6->cartopy) (0.12.1)\n",
      "Requirement already satisfied: fonttools>=4.22.0 in c:\\users\\yadeesh\\appdata\\roaming\\python\\python313\\site-packages (from matplotlib>=3.6->cartopy) (4.58.0)\n",
      "Requirement already satisfied: kiwisolver>=1.3.1 in c:\\users\\yadeesh\\appdata\\roaming\\python\\python313\\site-packages (from matplotlib>=3.6->cartopy) (1.4.8)\n",
      "Requirement already satisfied: pillow>=8 in c:\\users\\yadeesh\\appdata\\roaming\\python\\python313\\site-packages (from matplotlib>=3.6->cartopy) (11.3.0)\n",
      "Requirement already satisfied: pyparsing>=2.3.1 in c:\\users\\yadeesh\\appdata\\roaming\\python\\python313\\site-packages (from matplotlib>=3.6->cartopy) (3.2.3)\n",
      "Requirement already satisfied: python-dateutil>=2.7 in c:\\users\\yadeesh\\appdata\\roaming\\python\\python313\\site-packages (from matplotlib>=3.6->cartopy) (2.9.0.post0)\n",
      "Requirement already satisfied: certifi in c:\\users\\yadeesh\\appdata\\roaming\\python\\python313\\site-packages (from pyproj>=3.3.1->cartopy) (2025.1.31)\n",
      "Requirement already satisfied: six>=1.5 in c:\\users\\yadeesh\\appdata\\roaming\\python\\python313\\site-packages (from python-dateutil>=2.7->matplotlib>=3.6->cartopy) (1.17.0)\n"
     ]
    },
    {
     "name": "stderr",
     "output_type": "stream",
     "text": [
      "\n",
      "[notice] A new release of pip is available: 25.1.1 -> 25.2\n",
      "[notice] To update, run: python.exe -m pip install --upgrade pip\n"
     ]
    }
   ],
   "source": [
    "!pip install cartopy\n"
   ]
  },
  {
   "cell_type": "code",
   "execution_count": 18,
   "id": "71937fc4",
   "metadata": {},
   "outputs": [],
   "source": [
    "import cartopy.crs as ccrs"
   ]
  },
  {
   "cell_type": "code",
   "execution_count": 20,
   "id": "a7b694fd-f995-4a29-a9e1-9509f74ea381",
   "metadata": {
    "tags": []
   },
   "outputs": [
    {
     "name": "stderr",
     "output_type": "stream",
     "text": [
      "C:\\Users\\Yadeesh\\AppData\\Roaming\\Python\\Python313\\site-packages\\argopy\\utils\\loggers.py:25: UserWarning: scatter_map requires matplotlib AND cartopy installed\n",
      "  warnings.warn(msg)\n"
     ]
    },
    {
     "ename": "NameError",
     "evalue": "name 'ccrs' is not defined",
     "output_type": "error",
     "traceback": [
      "\u001b[31m---------------------------------------------------------------------------\u001b[39m",
      "\u001b[31mNameError\u001b[39m                                 Traceback (most recent call last)",
      "\u001b[36mCell\u001b[39m\u001b[36m \u001b[39m\u001b[32mIn[20]\u001b[39m\u001b[32m, line 2\u001b[39m\n\u001b[32m      1\u001b[39m \u001b[38;5;66;03m# Finally plot the map:\u001b[39;00m\n\u001b[32m----> \u001b[39m\u001b[32m2\u001b[39m fig, ax = \u001b[43mscatter_map\u001b[49m\u001b[43m(\u001b[49m\u001b[43mdf\u001b[49m\u001b[43m,\u001b[49m\n\u001b[32m      3\u001b[39m \u001b[43m                        \u001b[49m\u001b[43mhue\u001b[49m\u001b[43m=\u001b[49m\u001b[33;43m\"\u001b[39;49m\u001b[38;5;132;43;01m%s\u001b[39;49;00m\u001b[33;43m_DM\u001b[39;49m\u001b[33;43m\"\u001b[39;49m\u001b[43m \u001b[49m\u001b[43m%\u001b[49m\u001b[43m \u001b[49m\u001b[43mparam\u001b[49m\u001b[43m,\u001b[49m\n\u001b[32m      4\u001b[39m \u001b[43m                        \u001b[49m\u001b[43mcmap\u001b[49m\u001b[43m=\u001b[49m\u001b[33;43m\"\u001b[39;49m\u001b[33;43mdata_mode\u001b[39;49m\u001b[33;43m\"\u001b[39;49m\u001b[43m,\u001b[49m\n\u001b[32m      5\u001b[39m \u001b[43m                        \u001b[49m\u001b[43mfigsize\u001b[49m\u001b[43m=\u001b[49m\u001b[43m(\u001b[49m\u001b[32;43m10\u001b[39;49m\u001b[43m,\u001b[49m\u001b[32;43m6\u001b[39;49m\u001b[43m)\u001b[49m\u001b[43m,\u001b[49m\n\u001b[32m      6\u001b[39m \u001b[43m                        \u001b[49m\u001b[43mmarkersize\u001b[49m\u001b[43m=\u001b[49m\u001b[32;43m2\u001b[39;49m\u001b[43m,\u001b[49m\n\u001b[32m      7\u001b[39m \u001b[43m                        \u001b[49m\u001b[43mmarkeredgecolor\u001b[49m\u001b[43m=\u001b[49m\u001b[38;5;28;43;01mNone\u001b[39;49;00m\u001b[43m,\u001b[49m\n\u001b[32m      8\u001b[39m \u001b[43m                        \u001b[49m\u001b[43mtraj\u001b[49m\u001b[43m=\u001b[49m\u001b[38;5;28;43;01mFalse\u001b[39;49;00m\u001b[43m,\u001b[49m\u001b[43m  \u001b[49m\u001b[38;5;66;43;03m# Because some floats do weird things around 180/-180\u001b[39;49;00m\n\u001b[32m      9\u001b[39m \u001b[43m                        \u001b[49m\u001b[43mset_global\u001b[49m\u001b[43m=\u001b[49m\u001b[38;5;28;43;01mFalse\u001b[39;49;00m\u001b[43m,\u001b[49m\n\u001b[32m     10\u001b[39m \u001b[43m                        \u001b[49m\u001b[43mlegend_title\u001b[49m\u001b[43m=\u001b[49m\u001b[33;43m'\u001b[39;49m\u001b[38;5;132;43;01m%s\u001b[39;49;00m\u001b[33;43m data mode\u001b[39;49m\u001b[33;43m'\u001b[39;49m\u001b[43m \u001b[49m\u001b[43m%\u001b[49m\u001b[43m \u001b[49m\u001b[43mparam\u001b[49m\u001b[43m)\u001b[49m\n\u001b[32m     11\u001b[39m ax.set_title(\u001b[33m\"\u001b[39m\u001b[33mData mode for \u001b[39m\u001b[33m'\u001b[39m\u001b[38;5;132;01m%s\u001b[39;00m\u001b[33m'\u001b[39m\u001b[33m (\u001b[39m\u001b[38;5;132;01m%s\u001b[39;00m\u001b[33m)\u001b[39m\u001b[38;5;130;01m\\n\u001b[39;00m\u001b[38;5;132;01m%s\u001b[39;00m\u001b[33m profiles from the \u001b[39m\u001b[38;5;132;01m%s\u001b[39;00m\u001b[33m\"\u001b[39m % (param_info[\u001b[33m'\u001b[39m\u001b[33mprefLabel\u001b[39m\u001b[33m'\u001b[39m], \n\u001b[32m     12\u001b[39m                                                                    param, \n\u001b[32m     13\u001b[39m                                                                    \u001b[33m\"\u001b[39m\u001b[38;5;132;01m{:,}\u001b[39;00m\u001b[33m\"\u001b[39m.format(idx.N_MATCH), \n\u001b[32m     14\u001b[39m                                                                    idx.convention_title)\n\u001b[32m     15\u001b[39m             );\n",
      "\u001b[36mFile \u001b[39m\u001b[32m~\\AppData\\Roaming\\Python\\Python313\\site-packages\\argopy\\plot\\plot.py:582\u001b[39m, in \u001b[36mscatter_map\u001b[39m\u001b[34m(data, x, y, hue, markersize, markeredgesize, markeredgecolor, cmap, traj, traj_axis, traj_color, legend, legend_title, legend_location, cbar, cbarlabels, cbarmaxlabels, set_global, padding, **kwargs)\u001b[39m\n\u001b[32m    579\u001b[39m \u001b[38;5;28;01melse\u001b[39;00m:  \u001b[38;5;66;03m# OPTIONS['longitude_convention'] == '360':\u001b[39;00m\n\u001b[32m    580\u001b[39m     central_longitude = \u001b[32m180.0\u001b[39m\n\u001b[32m--> \u001b[39m\u001b[32m582\u001b[39m subplot_kw = {\u001b[33m\"\u001b[39m\u001b[33mprojection\u001b[39m\u001b[33m\"\u001b[39m: \u001b[43mccrs\u001b[49m.PlateCarree(central_longitude=central_longitude)}\n\u001b[32m    583\u001b[39m fig, ax = plt.subplots(**{**defaults, **kwargs}, subplot_kw=subplot_kw)\n\u001b[32m    584\u001b[39m ax.add_feature(\n\u001b[32m    585\u001b[39m     land_feature,\n\u001b[32m    586\u001b[39m     color=COLORS[\u001b[33m\"\u001b[39m\u001b[33mBLUE\u001b[39m\u001b[33m\"\u001b[39m],\n\u001b[32m   (...)\u001b[39m\u001b[32m    589\u001b[39m     alpha=\u001b[32m0.3\u001b[39m,\n\u001b[32m    590\u001b[39m )\n",
      "\u001b[31mNameError\u001b[39m: name 'ccrs' is not defined"
     ]
    }
   ],
   "source": [
    "# Finally plot the map:\n",
    "fig, ax = scatter_map(df,\n",
    "                        hue=\"%s_DM\" % param,\n",
    "                        cmap=\"data_mode\",\n",
    "                        figsize=(10,6),\n",
    "                        markersize=2,\n",
    "                        markeredgecolor=None,\n",
    "                        traj=False,  # Because some floats do weird things around 180/-180\n",
    "                        set_global=False,\n",
    "                        legend_title='%s data mode' % param)\n",
    "ax.set_title(\"Data mode for '%s' (%s)\\n%s profiles from the %s\" % (param_info['prefLabel'], \n",
    "                                                                   param, \n",
    "                                                                   \"{:,}\".format(idx.N_MATCH), \n",
    "                                                                   idx.convention_title)\n",
    "            );"
   ]
  },
  {
   "cell_type": "code",
   "execution_count": 1,
   "id": "18ac890b-1a63-48e5-832a-f6547e6e7fbb",
   "metadata": {},
   "outputs": [
    {
     "name": "stdout",
     "output_type": "stream",
     "text": [
      "<class 'pandas.core.frame.DataFrame'>\n",
      "RangeIndex: 33840 entries, 0 to 33839\n",
      "Data columns (total 18 columns):\n",
      " #   Column           Non-Null Count  Dtype  \n",
      "---  ------           --------------  -----  \n",
      " 0   CYCLE_NUMBER     33840 non-null  int64  \n",
      " 1   DATA_MODE        33840 non-null  object \n",
      " 2   DIRECTION        33840 non-null  object \n",
      " 3   PLATFORM_NUMBER  33840 non-null  int64  \n",
      " 4   POSITION_QC      33840 non-null  int64  \n",
      " 5   PRES             33840 non-null  float64\n",
      " 6   PRES_ERROR       23297 non-null  float64\n",
      " 7   PRES_QC          33840 non-null  int64  \n",
      " 8   PSAL             33840 non-null  float64\n",
      " 9   PSAL_ERROR       23297 non-null  float64\n",
      " 10  PSAL_QC          33840 non-null  int64  \n",
      " 11  TEMP             33840 non-null  float64\n",
      " 12  TEMP_ERROR       23297 non-null  float64\n",
      " 13  TEMP_QC          33840 non-null  int64  \n",
      " 14  TIME_QC          33840 non-null  int64  \n",
      " 15  LATITUDE         33840 non-null  float64\n",
      " 16  LONGITUDE        33840 non-null  float64\n",
      " 17  TIME             33840 non-null  object \n",
      "dtypes: float64(8), int64(7), object(3)\n",
      "memory usage: 4.6+ MB\n"
     ]
    }
   ],
   "source": [
    "import pandas as pd\n",
    "df=pd.read_csv(\"region.csv\")\n",
    "df.info()"
   ]
  },
  {
   "cell_type": "code",
   "execution_count": null,
   "id": "ef0e4436",
   "metadata": {},
   "outputs": [],
   "source": []
  }
 ],
 "metadata": {
  "kernelspec": {
   "display_name": "Python 3",
   "language": "python",
   "name": "python3"
  },
  "language_info": {
   "codemirror_mode": {
    "name": "ipython",
    "version": 3
   },
   "file_extension": ".py",
   "mimetype": "text/x-python",
   "name": "python",
   "nbconvert_exporter": "python",
   "pygments_lexer": "ipython3",
   "version": "3.13.2"
  },
  "widgets": {
   "application/vnd.jupyter.widget-state+json": {
    "state": {},
    "version_major": 2,
    "version_minor": 0
   }
  }
 },
 "nbformat": 4,
 "nbformat_minor": 5
}
